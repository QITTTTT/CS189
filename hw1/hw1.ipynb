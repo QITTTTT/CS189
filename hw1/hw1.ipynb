{
 "cells": [
  {
   "cell_type": "code",
   "execution_count": null,
   "metadata": {},
   "outputs": [],
   "source": [
    "import numpy as np\n",
    "from sklearn.svm import LinearSVC\n",
    "from sklearn.metrics import accuracy_score\n",
    "import matplotlib.pyplot as plt\n",
    "from tqdm import tqdm"
   ]
  },
  {
   "cell_type": "markdown",
   "metadata": {},
   "source": [
    "# Problem2:Data Partitioning"
   ]
  },
  {
   "cell_type": "code",
   "execution_count": null,
   "metadata": {},
   "outputs": [],
   "source": [
    "def Partitioning_MNIST(data, labels):\n",
    "    \"\"\"Return training_data, training_labels, validation_data, validation_labels of MNIST\"\"\"\n",
    "\n",
    "    rng = np.random.default_rng()\n",
    "    data_copy, labels_copy = np.reshape(np.squeeze(rng.permutation(data, axis=0), axis=1), (60000, 784)), rng.permutation(labels, axis=0)\n",
    "\n",
    "    training_data = data_copy[:50000]\n",
    "    training_labels = labels_copy[:50000]\n",
    "\n",
    "    validation_data = data_copy[50000:]\n",
    "    validation_labels = labels_copy[50000:]\n",
    "\n",
    "    return training_data, training_labels, validation_data, validation_labels"
   ]
  },
  {
   "cell_type": "code",
   "execution_count": null,
   "metadata": {},
   "outputs": [],
   "source": [
    "def Partition_SPAM(data, labels):\n",
    "    \"\"\"Return training_data, training_labels, validation_data, validation_labels of SPAM\"\"\"\n",
    "\n",
    "    rng = np.random.default_rng()\n",
    "    data_copy, labels_copy = rng.permutation(data, axis=0), rng.permutation(labels, axis=0)\n",
    "\n",
    "    num = data[\"training_data\"].shape * 0.2\n",
    "\n",
    "    training_data = data_copy[:num]\n",
    "    training_labels = labels_copy[:num]\n",
    "\n",
    "    validation_data = data_copy[num:]\n",
    "    validation_labels = labels_copy[num:]\n",
    "\n",
    "    return training_data, training_labels, validation_data, validation_labels"
   ]
  },
  {
   "cell_type": "code",
   "execution_count": null,
   "metadata": {},
   "outputs": [],
   "source": [
    "def Partitioning_CIFAR10(data, labels):\n",
    "    \"\"\"Return training_data, training_labels, validation_data, validation_labels of CIFAR10\"\"\"\n",
    "\n",
    "    rng = np.random.default_rng()\n",
    "    data_copy, labels_copy = rng.permutation(data, axis=0), rng.permutation(labels, axis=0)\n",
    "\n",
    "    training_data = data_copy[:5000]\n",
    "    training_labels = labels_copy[:5000]\n",
    "\n",
    "    validation_data = data_copy[5000:]\n",
    "    validation_labels = labels_copy[5000:]\n",
    "\n",
    "    return training_data, training_labels, validation_data, validation_labels"
   ]
  },
  {
   "cell_type": "markdown",
   "metadata": {},
   "source": [
    "# Problem3:Support Vector Machines: Coding"
   ]
  },
  {
   "cell_type": "code",
   "execution_count": null,
   "metadata": {},
   "outputs": [],
   "source": [
    "def SVM_Plt(samples, training_accuracy, validation_accuracy, dataset):\n",
    "    plt.xlabel(\"samples\")\n",
    "    plt.ylabel(\"accuracy\")\n",
    "    plt.plot(samples, training_accuracy, color='blue', label='training_accuracy')\n",
    "    plt.plot(samples, validation_accuracy, color='red', label='validation_accuracy')\n",
    "    plt.title(dataset)\n",
    "    plt.legend()\n",
    "    plt.savefig('Image\\{}-Problem3.png'.format(dataset))\n",
    "    plt.show()"
   ]
  },
  {
   "cell_type": "code",
   "execution_count": null,
   "metadata": {},
   "outputs": [],
   "source": [
    "def SVM_MNIST():\n",
    "    \"\"\"Train your model with the following numbers of training examples:\n",
    "    100, 200, 500, 1,000, 2,000, 5,000, 10,000\n",
    "    \"\"\"\n",
    "    data = np.load(\"data\\mnist-data.npz\")\n",
    "    training_data, training_labels, validation_data, validation_labels = Partitioning_MNIST(data[\"training_data\"], data[\"training_labels\"])\n",
    "    training_accuracy, validation_accuracy =[], []\n",
    "\n",
    "    clf = LinearSVC(max_iter=5000)\n",
    "    samples = [100, 200, 500, 1000, 2000, 5000, 10000, 50000]\n",
    "\n",
    "    for num in tqdm(samples):\n",
    "        clf.fit(training_data[:num], training_labels[:num])\n",
    "        training_accuracy.append(accuracy_score(training_labels[:num], clf.predict(training_data[:num])))\n",
    "        validation_accuracy.append(accuracy_score(validation_labels, clf.predict(validation_data)))\n",
    "    return samples, training_accuracy, validation_accuracy"
   ]
  },
  {
   "cell_type": "code",
   "execution_count": null,
   "metadata": {},
   "outputs": [],
   "source": [
    "samples, training_accuracy, validation_accuracy = SVM_MNIST()\n",
    "SVM_Plt(samples, training_accuracy, validation_accuracy, 'MNIST')"
   ]
  }
 ],
 "metadata": {
  "kernelspec": {
   "display_name": "Python 3",
   "language": "python",
   "name": "python3"
  },
  "language_info": {
   "codemirror_mode": {
    "name": "ipython",
    "version": 3
   },
   "file_extension": ".py",
   "mimetype": "text/x-python",
   "name": "python",
   "nbconvert_exporter": "python",
   "pygments_lexer": "ipython3",
   "version": "3.9.13"
  }
 },
 "nbformat": 4,
 "nbformat_minor": 2
}
