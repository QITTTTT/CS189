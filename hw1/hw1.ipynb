{
 "cells": [
  {
   "cell_type": "code",
   "execution_count": 1,
   "metadata": {},
   "outputs": [],
   "source": [
    "import numpy as np\n",
    "from sklearn.svm import LinearSVC\n",
    "from sklearn.metrics import accuracy_score\n",
    "import matplotlib.pyplot as plt\n",
    "from tqdm import tqdm\n",
    "from scripts import save_csv"
   ]
  },
  {
   "cell_type": "markdown",
   "metadata": {},
   "source": [
    "# Problem2:Data Partitioning"
   ]
  },
  {
   "cell_type": "code",
   "execution_count": 7,
   "metadata": {},
   "outputs": [],
   "source": [
    "def Partitioning_MNIST(data, labels):\n",
    "    \"\"\"Return training_data, training_labels, validation_data, validation_labels of MNIST\"\"\"\n",
    "\n",
    "    rng = np.random.default_rng()\n",
    "    index = rng.permutation(60000)\n",
    "    data_copy, labels_copy = np.reshape(np.squeeze(data[index], axis=1), (60000, 784)), labels[index]\n",
    "\n",
    "    training_data = data_copy[:50000]\n",
    "    training_labels = labels_copy[:50000]\n",
    "\n",
    "    validation_data = data_copy[50000:]\n",
    "    validation_labels = labels_copy[50000:]\n",
    "\n",
    "    return training_data, training_labels, validation_data, validation_labels"
   ]
  },
  {
   "cell_type": "code",
   "execution_count": null,
   "metadata": {},
   "outputs": [],
   "source": [
    "def Partitioning_spam(data, labels):\n",
    "    \"\"\"Return training_data, training_labels, validation_data, validation_labels of SPAM\"\"\"\n",
    "\n",
    "    rng = np.random.default_rng()\n",
    "    index = rng.permutation(4172)\n",
    "    data_copy, labels_copy = data[index], labels[index]\n",
    "\n",
    "    num = int(data.shape[0] * 0.8)\n",
    "\n",
    "    training_data = data_copy[:num]\n",
    "    training_labels = labels_copy[:num]\n",
    "\n",
    "    validation_data = data_copy[num:]\n",
    "    validation_labels = labels_copy[num:]\n",
    "\n",
    "    return training_data, training_labels, validation_data, validation_labels"
   ]
  },
  {
   "cell_type": "code",
   "execution_count": 6,
   "metadata": {},
   "outputs": [],
   "source": [
    "def Partitioning_cifar10(data, labels):\n",
    "    \"\"\"Return training_data, training_labels, validation_data, validation_labels of CIFAR10\"\"\"\n",
    "\n",
    "    rng = np.random.default_rng()\n",
    "    index = rng.permutation(50000)\n",
    "    data_copy, labels_copy = data[index], labels[index]\n",
    "\n",
    "    training_data = data_copy[:45000]\n",
    "    training_labels = labels_copy[:45000]\n",
    "\n",
    "    validation_data = data_copy[45000:]\n",
    "    validation_labels = labels_copy[45000:]\n",
    "\n",
    "    return training_data, training_labels, validation_data, validation_labels"
   ]
  },
  {
   "cell_type": "markdown",
   "metadata": {},
   "source": [
    "# Problem3:Support Vector Machines: Coding"
   ]
  },
  {
   "cell_type": "code",
   "execution_count": null,
   "metadata": {},
   "outputs": [],
   "source": [
    "def SVM_MNIST():\n",
    "    \"\"\"Train your model with the following numbers of training examples:\n",
    "    100, 200, 500, 1,000, 2,000, 5,000, 10,000\n",
    "    \"\"\"\n",
    "    data = np.load(\"data\\mnist-data.npz\")\n",
    "    training_data, training_labels, validation_data, validation_labels = Partitioning_MNIST(data[\"training_data\"], data[\"training_labels\"])\n",
    "    training_accuracy, validation_accuracy =[], []\n",
    "\n",
    "    clf = LinearSVC(max_iter=10000, loss='hinge', C=0.1)\n",
    "    samples = [100, 200, 500, 1000, 2000, 5000, 10000]\n",
    "\n",
    "    for num in tqdm(samples):\n",
    "        clf.fit(training_data[:num], training_labels[:num])\n",
    "        training_accuracy.append(accuracy_score(training_labels[:num], clf.predict(training_data[:num])))\n",
    "        validation_accuracy.append(accuracy_score(validation_labels, clf.predict(validation_data)))\n",
    "    return samples, training_accuracy, validation_accuracy"
   ]
  },
  {
   "cell_type": "code",
   "execution_count": null,
   "metadata": {},
   "outputs": [],
   "source": [
    "def SVM_spam():\n",
    "    \"\"\"Train your model with the following numbers of training examples: 100, 200, 500, 1,000, 2,000, ALL\"\"\"\n",
    "    data = np.load(\"data\\spam-data.npz\")\n",
    "    training_data, training_labels, validation_data, validation_labels = Partitioning_spam(data[\"training_data\"], data[\"training_labels\"])\n",
    "    training_accuracy, validation_accuracy =[], []\n",
    "\n",
    "    clf = LinearSVC(max_iter=100000, loss='hinge', C=1)\n",
    "    samples = [100, 200, 500, 1000, 2000, 4172]\n",
    "\n",
    "    for num in tqdm(samples):\n",
    "        clf.fit(training_data[:num], training_labels[:num])\n",
    "        training_accuracy.append(accuracy_score(training_labels[:num], clf.predict(training_data[:num])))\n",
    "        validation_accuracy.append(accuracy_score(validation_labels, clf.predict(validation_data)))\n",
    "    return samples, training_accuracy, validation_accuracy"
   ]
  },
  {
   "cell_type": "code",
   "execution_count": null,
   "metadata": {},
   "outputs": [],
   "source": [
    "def SVM_cifar10():\n",
    "    \"\"\"Train your model with the following numbers of training examples: 100, 200, 500, 1,000, 2,000, 5,000\"\"\"\n",
    "    data = np.load(\"data\\cifar10-data.npz\")\n",
    "    training_data, training_labels, validation_data, validation_labels = Partitioning_cifar10(data[\"training_data\"], data[\"training_labels\"])\n",
    "    training_accuracy, validation_accuracy =[], []\n",
    "\n",
    "    clf = LinearSVC(max_iter=100000, loss='hinge', C=1)\n",
    "    samples = [100, 200, 500, 1000, 2000, 5000]\n",
    "\n",
    "    for num in tqdm(samples):\n",
    "        clf.fit(training_data[:num], training_labels[:num])\n",
    "        training_accuracy.append(accuracy_score(training_labels[:num], clf.predict(training_data[:num])))\n",
    "        validation_accuracy.append(accuracy_score(validation_labels, clf.predict(validation_data)))\n",
    "    return samples, training_accuracy, validation_accuracy"
   ]
  },
  {
   "cell_type": "code",
   "execution_count": null,
   "metadata": {},
   "outputs": [],
   "source": [
    "def SVM_Plt(samples, training_accuracy, validation_accuracy, dataset):\n",
    "    \"\"\"draw plots showing number of examples versus training and validation accuracy for each of the datasets\"\"\"\n",
    "    plt.xlabel(\"samples\")\n",
    "    plt.ylabel(\"accuracy\")\n",
    "    plt.plot(samples, training_accuracy, color='blue', label='training_accuracy')\n",
    "    plt.plot(samples, validation_accuracy, color='red', label='validation_accuracy')\n",
    "    plt.title(dataset)\n",
    "    plt.legend()\n",
    "    plt.savefig('Image\\{}-Problem3.png'.format(dataset))\n",
    "    plt.show()"
   ]
  },
  {
   "cell_type": "code",
   "execution_count": null,
   "metadata": {},
   "outputs": [],
   "source": [
    "# MNIST分类\n",
    "samples, training_accuracy, validation_accuracy = SVM_MNIST()\n",
    "SVM_Plt(samples, training_accuracy, validation_accuracy, 'MNIST')"
   ]
  },
  {
   "cell_type": "code",
   "execution_count": null,
   "metadata": {},
   "outputs": [],
   "source": [
    "# spam分类\n",
    "samples, training_accuracy, validation_accuracy = SVM_spam()\n",
    "SVM_Plt(samples, training_accuracy, validation_accuracy, 'spam')"
   ]
  },
  {
   "cell_type": "code",
   "execution_count": null,
   "metadata": {},
   "outputs": [],
   "source": [
    "# cifar-10分类\n",
    "samples, training_accuracy, validation_accuracy = SVM_cifar10()\n",
    "SVM_Plt(samples, training_accuracy, validation_accuracy, 'cifar10')"
   ]
  },
  {
   "cell_type": "markdown",
   "metadata": {},
   "source": [
    "# Problem4:Hyperparameter Tuning\n",
    "## the result is saved under scripts/\\_\\_pycache\\_\\_"
   ]
  },
  {
   "cell_type": "code",
   "execution_count": 2,
   "metadata": {},
   "outputs": [],
   "source": [
    "def train_with_different_C():\n",
    "    \"\"\"we train the model repeatedly with different hyperparameters on MNIST\"\"\"\n",
    "\n",
    "    data = np.load(\"data\\mnist-data.npz\")\n",
    "    training_data, training_labels, validation_data, validation_labels = Partitioning_MNIST(data[\"training_data\"], data[\"training_labels\"])\n",
    "    validation_accuracy = []\n",
    "\n",
    "    C_list = [0.01 * pow(2,i) for i in range(8)]\n",
    "\n",
    "    for num in tqdm(C_list):\n",
    "        clf = LinearSVC(max_iter=100000, loss='hinge', C=num)\n",
    "        clf.fit(training_data, training_labels)\n",
    "        validation_accuracy.append(accuracy_score(validation_labels, clf.predict(validation_data)))\n",
    "    \n",
    "    for i in range(8):\n",
    "        print('C:{}, validation:{}'.format(C_list[i], validation_accuracy[i]))\n",
    "\n",
    "    best_C = C_list[validation_accuracy.index(max(validation_accuracy))]\n",
    "\n",
    "    return best_C"
   ]
  },
  {
   "cell_type": "code",
   "execution_count": 13,
   "metadata": {},
   "outputs": [],
   "source": [
    "def test_with_best_C():\n",
    "    \"\"\"retrain SVM with best_C and predict test_data\"\"\"\n",
    "    data = np.load(\"data\\mnist-data.npz\")\n",
    "\n",
    "    best_C = train_with_different_C()\n",
    "    clf = LinearSVC(max_iter=1000000, loss='hinge', C=best_C)\n",
    "    clf.fit(np.reshape(np.squeeze(data[\"training_data\"]), (60000, 28*28)), data[\"training_labels\"])\n",
    "\n",
    "    X_test = np.reshape(np.squeeze(data[\"test_data\"]), (10000, 28*28))\n",
    "    Y_test = clf.predict(X_test)\n",
    "\n",
    "    with open('Problem4.txt', 'w') as f:\n",
    "        for Y in Y_test:\n",
    "            f.write(str(Y) + '\\n')\n",
    "    "
   ]
  },
  {
   "cell_type": "code",
   "execution_count": 14,
   "metadata": {},
   "outputs": [
    {
     "name": "stderr",
     "output_type": "stream",
     "text": [
      " 88%|████████▊ | 7/8 [03:06<00:46, 46.93s/it]f:\\python app\\lib\\site-packages\\sklearn\\svm\\_base.py:1244: ConvergenceWarning: Liblinear failed to converge, increase the number of iterations.\n",
      "  warnings.warn(\n",
      "100%|██████████| 8/8 [05:36<00:00, 42.01s/it]\n"
     ]
    },
    {
     "name": "stdout",
     "output_type": "stream",
     "text": [
      "C:0.01, validation:0.9092\n",
      "C:0.02, validation:0.9109\n",
      "C:0.04, validation:0.9134\n",
      "C:0.08, validation:0.9149\n",
      "C:0.16, validation:0.9143\n",
      "C:0.32, validation:0.9146\n",
      "C:0.64, validation:0.9144\n",
      "C:1.28, validation:0.9145\n"
     ]
    }
   ],
   "source": [
    "test_with_best_C()"
   ]
  },
  {
   "cell_type": "markdown",
   "metadata": {},
   "source": [
    "# Problem5:K-Fold Cross-Validation"
   ]
  }
 ],
 "metadata": {
  "kernelspec": {
   "display_name": "Python 3",
   "language": "python",
   "name": "python3"
  },
  "language_info": {
   "codemirror_mode": {
    "name": "ipython",
    "version": 3
   },
   "file_extension": ".py",
   "mimetype": "text/x-python",
   "name": "python",
   "nbconvert_exporter": "python",
   "pygments_lexer": "ipython3",
   "version": "3.9.13"
  }
 },
 "nbformat": 4,
 "nbformat_minor": 2
}
