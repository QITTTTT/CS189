{
 "cells": [
  {
   "cell_type": "code",
   "execution_count": null,
   "metadata": {},
   "outputs": [],
   "source": [
    "import numpy as np\n",
    "from sklearn.svm import LinearSVC\n",
    "from sklearn.metrics import accuracy_score\n",
    "import matplotlib.pyplot as plt\n",
    "from tqdm import tqdm\n",
    "from scripts import save_csv"
   ]
  },
  {
   "cell_type": "markdown",
   "metadata": {},
   "source": [
    "# Problem2:Data Partitioning"
   ]
  },
  {
   "cell_type": "code",
   "execution_count": null,
   "metadata": {},
   "outputs": [],
   "source": [
    "def Partitioning_MNIST(data, labels):\n",
    "    \"\"\"Return training_data, training_labels, validation_data, validation_labels of MNIST\"\"\"\n",
    "\n",
    "    rng = np.random.default_rng()\n",
    "    index = rng.permutation(60000)\n",
    "    data_copy, labels_copy = np.reshape(np.squeeze(data[index], axis=1), (60000, 784)), labels[index]\n",
    "\n",
    "    training_data = data_copy[:50000]\n",
    "    training_labels = labels_copy[:50000]\n",
    "\n",
    "    validation_data = data_copy[50000:]\n",
    "    validation_labels = labels_copy[50000:]\n",
    "\n",
    "    return training_data, training_labels, validation_data, validation_labels"
   ]
  },
  {
   "cell_type": "code",
   "execution_count": null,
   "metadata": {},
   "outputs": [],
   "source": [
    "def Partitioning_spam(data, labels):\n",
    "    \"\"\"Return training_data, training_labels, validation_data, validation_labels of SPAM\"\"\"\n",
    "\n",
    "    rng = np.random.default_rng()\n",
    "    index = rng.permutation(4172)\n",
    "    data_copy, labels_copy = data[index], labels[index]\n",
    "\n",
    "    num = int(data.shape[0] * 0.8)\n",
    "\n",
    "    training_data = data_copy[:num]\n",
    "    training_labels = labels_copy[:num]\n",
    "\n",
    "    validation_data = data_copy[num:]\n",
    "    validation_labels = labels_copy[num:]\n",
    "\n",
    "    return training_data, training_labels, validation_data, validation_labels"
   ]
  },
  {
   "cell_type": "code",
   "execution_count": null,
   "metadata": {},
   "outputs": [],
   "source": [
    "def Partitioning_cifar10(data, labels):\n",
    "    \"\"\"Return training_data, training_labels, validation_data, validation_labels of CIFAR10\"\"\"\n",
    "\n",
    "    rng = np.random.default_rng()\n",
    "    index = rng.permutation(50000)\n",
    "    data_copy, labels_copy = data[index], labels[index]\n",
    "\n",
    "    training_data = data_copy[:45000]\n",
    "    training_labels = labels_copy[:45000]\n",
    "\n",
    "    validation_data = data_copy[45000:]\n",
    "    validation_labels = labels_copy[45000:]\n",
    "\n",
    "    return training_data, training_labels, validation_data, validation_labels"
   ]
  },
  {
   "cell_type": "markdown",
   "metadata": {},
   "source": [
    "# Problem3:Support Vector Machines: Coding"
   ]
  },
  {
   "cell_type": "code",
   "execution_count": null,
   "metadata": {},
   "outputs": [],
   "source": [
    "def SVM_MNIST():\n",
    "    \"\"\"Train your model with the following numbers of training examples:\n",
    "    100, 200, 500, 1,000, 2,000, 5,000, 10,000\n",
    "    \"\"\"\n",
    "    data = np.load(\"data\\mnist-data.npz\")\n",
    "    training_data, training_labels, validation_data, validation_labels = Partitioning_MNIST(data[\"training_data\"], data[\"training_labels\"])\n",
    "    training_accuracy, validation_accuracy =[], []\n",
    "\n",
    "    clf = LinearSVC(max_iter=10000, loss='hinge', C=0.1)\n",
    "    samples = [100, 200, 500, 1000, 2000, 5000, 10000]\n",
    "\n",
    "    for num in tqdm(samples):\n",
    "        clf.fit(training_data[:num], training_labels[:num])\n",
    "        training_accuracy.append(accuracy_score(training_labels[:num], clf.predict(training_data[:num])))\n",
    "        validation_accuracy.append(accuracy_score(validation_labels, clf.predict(validation_data)))\n",
    "    return samples, training_accuracy, validation_accuracy"
   ]
  },
  {
   "cell_type": "code",
   "execution_count": null,
   "metadata": {},
   "outputs": [],
   "source": [
    "def SVM_spam():\n",
    "    \"\"\"Train your model with the following numbers of training examples: 100, 200, 500, 1,000, 2,000, ALL\"\"\"\n",
    "    data = np.load(\"data\\spam-data.npz\")\n",
    "    training_data, training_labels, validation_data, validation_labels = Partitioning_spam(data[\"training_data\"], data[\"training_labels\"])\n",
    "    training_accuracy, validation_accuracy =[], []\n",
    "\n",
    "    clf = LinearSVC(max_iter=100000, loss='hinge', C=1)\n",
    "    samples = [100, 200, 500, 1000, 2000, 4172]\n",
    "\n",
    "    for num in tqdm(samples):\n",
    "        clf.fit(training_data[:num], training_labels[:num])\n",
    "        training_accuracy.append(accuracy_score(training_labels[:num], clf.predict(training_data[:num])))\n",
    "        validation_accuracy.append(accuracy_score(validation_labels, clf.predict(validation_data)))\n",
    "    return samples, training_accuracy, validation_accuracy"
   ]
  },
  {
   "cell_type": "code",
   "execution_count": null,
   "metadata": {},
   "outputs": [],
   "source": [
    "def SVM_cifar10():\n",
    "    \"\"\"Train your model with the following numbers of training examples: 100, 200, 500, 1,000, 2,000, 5,000\"\"\"\n",
    "    data = np.load(\"data\\cifar10-data.npz\")\n",
    "    training_data, training_labels, validation_data, validation_labels = Partitioning_cifar10(data[\"training_data\"], data[\"training_labels\"])\n",
    "    training_accuracy, validation_accuracy =[], []\n",
    "\n",
    "    clf = LinearSVC(max_iter=100000, loss='hinge', C=1)\n",
    "    samples = [100, 200, 500, 1000, 2000, 5000]\n",
    "\n",
    "    for num in tqdm(samples):\n",
    "        clf.fit(training_data[:num], training_labels[:num])\n",
    "        training_accuracy.append(accuracy_score(training_labels[:num], clf.predict(training_data[:num])))\n",
    "        validation_accuracy.append(accuracy_score(validation_labels, clf.predict(validation_data)))\n",
    "    return samples, training_accuracy, validation_accuracy"
   ]
  },
  {
   "cell_type": "code",
   "execution_count": null,
   "metadata": {},
   "outputs": [],
   "source": [
    "def SVM_Plt(samples, training_accuracy, validation_accuracy, dataset):\n",
    "    \"\"\"draw plots showing number of examples versus training and validation accuracy for each of the datasets\"\"\"\n",
    "    plt.xlabel(\"samples\")\n",
    "    plt.ylabel(\"accuracy\")\n",
    "    plt.plot(samples, training_accuracy, color='blue', label='training_accuracy')\n",
    "    plt.plot(samples, validation_accuracy, color='red', label='validation_accuracy')\n",
    "    plt.title(dataset)\n",
    "    plt.legend()\n",
    "    plt.savefig('Image\\{}-Problem3.png'.format(dataset))\n",
    "    plt.show()"
   ]
  },
  {
   "cell_type": "code",
   "execution_count": null,
   "metadata": {},
   "outputs": [],
   "source": [
    "# MNIST分类\n",
    "samples, training_accuracy, validation_accuracy = SVM_MNIST()\n",
    "SVM_Plt(samples, training_accuracy, validation_accuracy, 'MNIST')"
   ]
  },
  {
   "cell_type": "code",
   "execution_count": null,
   "metadata": {},
   "outputs": [],
   "source": [
    "# spam分类\n",
    "samples, training_accuracy, validation_accuracy = SVM_spam()\n",
    "SVM_Plt(samples, training_accuracy, validation_accuracy, 'spam')"
   ]
  },
  {
   "cell_type": "code",
   "execution_count": null,
   "metadata": {},
   "outputs": [],
   "source": [
    "# cifar-10分类\n",
    "samples, training_accuracy, validation_accuracy = SVM_cifar10()\n",
    "SVM_Plt(samples, training_accuracy, validation_accuracy, 'cifar10')"
   ]
  },
  {
   "cell_type": "markdown",
   "metadata": {},
   "source": [
    "# Problem4:Hyperparameter Tuning\n",
    "## the result is saved in Problem4.txt"
   ]
  },
  {
   "cell_type": "code",
   "execution_count": null,
   "metadata": {},
   "outputs": [],
   "source": [
    "def train_with_different_C():\n",
    "    \"\"\"we train the model repeatedly with different hyperparameters on MNIST\"\"\"\n",
    "\n",
    "    data = np.load(\"data\\mnist-data.npz\")\n",
    "    training_data, training_labels, validation_data, validation_labels = Partitioning_MNIST(data[\"training_data\"], data[\"training_labels\"])\n",
    "    validation_accuracy = []\n",
    "\n",
    "    C_list = [0.01 * pow(2,i) for i in range(8)]\n",
    "\n",
    "    for num in tqdm(C_list):\n",
    "        clf = LinearSVC(max_iter=100000, loss='hinge', C=num)\n",
    "        clf.fit(training_data, training_labels)\n",
    "        validation_accuracy.append(accuracy_score(validation_labels, clf.predict(validation_data)))\n",
    "    \n",
    "    for i in range(8):\n",
    "        print('C:{}, validation_accuracy:{}'.format(C_list[i], validation_accuracy[i]))\n",
    "\n",
    "    best_C = C_list[validation_accuracy.index(max(validation_accuracy))]\n",
    "\n",
    "    return best_C"
   ]
  },
  {
   "cell_type": "code",
   "execution_count": null,
   "metadata": {},
   "outputs": [],
   "source": [
    "def test_with_best_C():\n",
    "    \"\"\"retrain SVM with best_C and predict test_data\"\"\"\n",
    "    data = np.load(\"data\\mnist-data.npz\")\n",
    "\n",
    "    best_C = train_with_different_C()\n",
    "    clf = LinearSVC(max_iter=1000000, loss='hinge', C=best_C)\n",
    "    clf.fit(np.reshape(np.squeeze(data[\"training_data\"]), (60000, 28*28)), data[\"training_labels\"])\n",
    "\n",
    "    X_test = np.reshape(np.squeeze(data[\"test_data\"]), (10000, 28*28))\n",
    "    Y_test = clf.predict(X_test)\n",
    "\n",
    "    save_csv.results_to_csv(Y_test)\n",
    "    "
   ]
  },
  {
   "cell_type": "code",
   "execution_count": null,
   "metadata": {},
   "outputs": [],
   "source": [
    "# Problem4\n",
    "test_with_best_C()"
   ]
  },
  {
   "cell_type": "markdown",
   "metadata": {},
   "source": [
    "# Problem5:K-Fold Cross-Validation"
   ]
  },
  {
   "cell_type": "code",
   "execution_count": null,
   "metadata": {},
   "outputs": [],
   "source": [
    "def spam_K_FOLD_partitioning(K):\n",
    "    \"\"\"partition spam dataset to K parts\"\"\"\n",
    "\n",
    "    data = np.load(\"data\\spam-data.npz\")\n",
    "    rng = np.random.default_rng()\n",
    "    index = rng.permutation(4172)\n",
    "    data_shuffled, labels_shuffled = data[\"training_data\"][index], data[\"training_labels\"][index]\n",
    "    data_list, labels_list = [], []\n",
    "\n",
    "    num = 4172 // K\n",
    "    for i in range(K-1):\n",
    "        dataset, labelsset = data_shuffled[i*num:(i+1)*num], labels_shuffled[i*num:(i+1)*num]\n",
    "        data_list.append(dataset)\n",
    "        labels_list.append(labelsset)\n",
    "    data_list.append(data_shuffled[(K-1)*num:])\n",
    "    labels_list.append(labels_shuffled[(K-1)*num:])\n",
    "    return data_list, labels_list\n",
    "    "
   ]
  },
  {
   "cell_type": "code",
   "execution_count": null,
   "metadata": {},
   "outputs": [],
   "source": [
    "def K_fold_cross_validation(K, C):\n",
    "    \"\"\"do K_fold_cross_validation with hyperparameter C\"\"\"\n",
    "\n",
    "    data_list, labels_list = spam_K_FOLD_partitioning(K)\n",
    "    score = []\n",
    "\n",
    "    for i in tqdm(range(K)):\n",
    "        clf = LinearSVC(loss='hinge', C=C, max_iter=1000000)\n",
    "        training_data, training_labels = [], []\n",
    "        validation_data, validation_labels = [], []\n",
    "        for index in range(K):\n",
    "            if index == i:\n",
    "                validation_data.extend(data_list[index])\n",
    "                validation_labels.extend(labels_list[index])\n",
    "            else:\n",
    "                training_data.extend(data_list[index])\n",
    "                training_labels.extend(labels_list[index])\n",
    "        clf.fit(training_data, training_labels)\n",
    "        score.append(accuracy_score(validation_labels, clf.predict(validation_data)))\n",
    "    return sum(score) / len(score)"
   ]
  },
  {
   "cell_type": "code",
   "execution_count": null,
   "metadata": {},
   "outputs": [],
   "source": [
    "def best_C(K):\n",
    "    \"\"\"K fold cross validation for different C, and choose the best C\"\"\"\n",
    "    validation_accuracy = []\n",
    "    C_list = [0.01 * pow(2,i) for i in range(8)]\n",
    "\n",
    "    for C in tqdm(C_list):\n",
    "        validation_accuracy.append(K_fold_cross_validation(K, C))\n",
    "    \n",
    "    for i in range(8):\n",
    "        print('C:{}, validation_accuracy:{}'.format(C_list[i], validation_accuracy[i]))\n",
    "\n",
    "    best_C = C_list[validation_accuracy.index(max(validation_accuracy))]\n",
    "    \n",
    "    return best_C"
   ]
  },
  {
   "cell_type": "code",
   "execution_count": null,
   "metadata": {},
   "outputs": [],
   "source": [
    "best_C = best_C(5)\n",
    "print('best_C:{}'.format(best_C))"
   ]
  },
  {
   "cell_type": "markdown",
   "metadata": {},
   "source": [
    "# Problem6: Kaggle"
   ]
  },
  {
   "cell_type": "markdown",
   "metadata": {},
   "source": [
    "略"
   ]
  },
  {
   "cell_type": "markdown",
   "metadata": {},
   "source": [
    "# Problem7: Theory of Hard-Margin Support Vector Machines"
   ]
  },
  {
   "cell_type": "markdown",
   "metadata": {},
   "source": [
    "test"
   ]
  }
 ],
 "metadata": {
  "kernelspec": {
   "display_name": "Python 3",
   "language": "python",
   "name": "python3"
  },
  "language_info": {
   "codemirror_mode": {
    "name": "ipython",
    "version": 3
   },
   "file_extension": ".py",
   "mimetype": "text/x-python",
   "name": "python",
   "nbconvert_exporter": "python",
   "pygments_lexer": "ipython3",
   "version": "3.9.13"
  }
 },
 "nbformat": 4,
 "nbformat_minor": 2
}
