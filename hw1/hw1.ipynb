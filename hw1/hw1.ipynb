{
 "cells": [
  {
   "cell_type": "code",
   "execution_count": 2,
   "metadata": {},
   "outputs": [],
   "source": [
    "import numpy as np"
   ]
  },
  {
   "cell_type": "markdown",
   "metadata": {},
   "source": [
    "# problem2:Data Partitioning"
   ]
  },
  {
   "cell_type": "code",
   "execution_count": 6,
   "metadata": {},
   "outputs": [],
   "source": [
    "def Partitioning_MNIST(data, labels):\n",
    "    \"\"\"Return training_data, training_labels, validation_data, validation_labels of MNIST\"\"\"\n",
    "\n",
    "    rng = np.random.default_rng()\n",
    "    data_copy, labels_copy = rng.permutation(data, axis=0), rng.permutation(labels, axis=0)\n",
    "\n",
    "    training_data = data_copy[:50000]\n",
    "    training_labels = labels_copy[:50000]\n",
    "\n",
    "    validation_data = data_copy[50000:]\n",
    "    validation_labels = labels_copy[50000:]\n",
    "\n",
    "    return training_data, training_labels, validation_data, validation_labels"
   ]
  },
  {
   "cell_type": "code",
   "execution_count": null,
   "metadata": {},
   "outputs": [],
   "source": [
    "def Partition_SPAM(data, labels):\n",
    "    \"\"\"Return training_data, training_labels, validation_data, validation_labels of SPAM\"\"\"\n",
    "\n",
    "    rng = np.random.default_rng()\n",
    "    data_copy, labels_copy = rng.permutation(data, axis=0), rng.permutation(labels, axis=0)\n",
    "\n",
    "    num = data[\"training_data\"].shape * 0.2\n",
    "\n",
    "    training_data = data_copy[:num]\n",
    "    training_labels = labels_copy[:num]\n",
    "\n",
    "    validation_data = data_copy[num:]\n",
    "    validation_labels = labels_copy[num:]\n",
    "\n",
    "    return training_data, training_labels, validation_data, validation_labels"
   ]
  },
  {
   "cell_type": "code",
   "execution_count": null,
   "metadata": {},
   "outputs": [],
   "source": [
    "def Partitioning_CIFAR10(data, labels):\n",
    "    \"\"\"Return training_data, training_labels, validation_data, validation_labels of CIFAR10\"\"\"\n",
    "\n",
    "    rng = np.random.default_rng()\n",
    "    data_copy, labels_copy = rng.permutation(data, axis=0), rng.permutation(labels, axis=0)\n",
    "\n",
    "    training_data = data_copy[:5000]\n",
    "    training_labels = labels_copy[:5000]\n",
    "\n",
    "    validation_data = data_copy[5000:]\n",
    "    validation_labels = labels_copy[5000:]\n",
    "\n",
    "    return training_data, training_labels, validation_data, validation_labels"
   ]
  },
  {
   "cell_type": "markdown",
   "metadata": {},
   "source": []
  }
 ],
 "metadata": {
  "kernelspec": {
   "display_name": "Python 3",
   "language": "python",
   "name": "python3"
  },
  "language_info": {
   "codemirror_mode": {
    "name": "ipython",
    "version": 3
   },
   "file_extension": ".py",
   "mimetype": "text/x-python",
   "name": "python",
   "nbconvert_exporter": "python",
   "pygments_lexer": "ipython3",
   "version": "3.9.13"
  }
 },
 "nbformat": 4,
 "nbformat_minor": 2
}
